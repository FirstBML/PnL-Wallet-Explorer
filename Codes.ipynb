{
 "cells": [
  {
   "cell_type": "markdown",
   "id": "3ed7e48d",
   "metadata": {},
   "source": [
    "### Importing the Neccessary Modules"
   ]
  },
  {
   "cell_type": "code",
   "execution_count": 5,
   "id": "e6be5d8c",
   "metadata": {},
   "outputs": [],
   "source": [
    "# Importing the Necessary Modules for Wallet Explorer for Realized and Unrealized PnL\n",
    "import pandas as pd\n",
    "import numpy as np\n",
    "import matplotlib.pyplot as plt\n",
    "import seaborn as sns\n",
    "import requests\n",
    "import os\n",
    "import json\n",
    "import datetime\n",
    "import time \n",
    "from __future__ import annotations\n",
    "from dataclasses import dataclass\n",
    "from enum import Enum\n",
    "from typing import List, Dict, Optional, Tuple\n",
    "from dotenv import load_dotenv\n",
    "from dune_client.client import DuneClient\n",
    "\n"
   ]
  },
  {
   "cell_type": "code",
   "execution_count": 6,
   "id": "fc23eece",
   "metadata": {},
   "outputs": [
    {
     "name": "stderr",
     "output_type": "stream",
     "text": [
      "2025-08-28 23:33:32,939 ERROR dune_client.models Can't build ResultsResponse from {'error': 'invalid API Key'} due to KeyError: 'execution_id'\n"
     ]
    },
    {
     "ename": "DuneError",
     "evalue": "Can't build ResultsResponse from {'error': 'invalid API Key'}",
     "output_type": "error",
     "traceback": [
      "\u001b[31m---------------------------------------------------------------------------\u001b[39m",
      "\u001b[31mKeyError\u001b[39m                                  Traceback (most recent call last)",
      "\u001b[36mFile \u001b[39m\u001b[32mc:\\Users\\g\\Documents\\PnL Wallet Explorer\\WalletPnL\\Lib\\site-packages\\dune_client\\api\\custom.py:64\u001b[39m, in \u001b[36mCustomEndpointAPI.get_custom_endpoint_result\u001b[39m\u001b[34m(self, handle, endpoint, limit, offset, columns, sample_count, filters, sort_by)\u001b[39m\n\u001b[32m     63\u001b[39m \u001b[38;5;28;01mtry\u001b[39;00m:\n\u001b[32m---> \u001b[39m\u001b[32m64\u001b[39m     \u001b[38;5;28;01mreturn\u001b[39;00m \u001b[43mResultsResponse\u001b[49m\u001b[43m.\u001b[49m\u001b[43mfrom_dict\u001b[49m\u001b[43m(\u001b[49m\u001b[43mresponse_json\u001b[49m\u001b[43m)\u001b[49m\n\u001b[32m     65\u001b[39m \u001b[38;5;28;01mexcept\u001b[39;00m \u001b[38;5;167;01mKeyError\u001b[39;00m \u001b[38;5;28;01mas\u001b[39;00m err:\n",
      "\u001b[36mFile \u001b[39m\u001b[32mc:\\Users\\g\\Documents\\PnL Wallet Explorer\\WalletPnL\\Lib\\site-packages\\dune_client\\models.py:317\u001b[39m, in \u001b[36mResultsResponse.from_dict\u001b[39m\u001b[34m(cls, data)\u001b[39m\n\u001b[32m    316\u001b[39m \u001b[38;5;250m\u001b[39m\u001b[33;03m\"\"\"Constructor from dictionary. See unit test for sample input.\"\"\"\u001b[39;00m\n\u001b[32m--> \u001b[39m\u001b[32m317\u001b[39m \u001b[38;5;28;01massert\u001b[39;00m \u001b[38;5;28misinstance\u001b[39m(\u001b[43mdata\u001b[49m\u001b[43m[\u001b[49m\u001b[33;43m\"\u001b[39;49m\u001b[33;43mexecution_id\u001b[39;49m\u001b[33;43m\"\u001b[39;49m\u001b[43m]\u001b[49m, \u001b[38;5;28mstr\u001b[39m)\n\u001b[32m    318\u001b[39m \u001b[38;5;28;01massert\u001b[39;00m \u001b[38;5;28misinstance\u001b[39m(data[\u001b[33m\"\u001b[39m\u001b[33mquery_id\u001b[39m\u001b[33m\"\u001b[39m], \u001b[38;5;28mint\u001b[39m)\n",
      "\u001b[31mKeyError\u001b[39m: 'execution_id'",
      "\nThe above exception was the direct cause of the following exception:\n",
      "\u001b[31mDuneError\u001b[39m                                 Traceback (most recent call last)",
      "\u001b[36mCell\u001b[39m\u001b[36m \u001b[39m\u001b[32mIn[6]\u001b[39m\u001b[32m, line 8\u001b[39m\n\u001b[32m      6\u001b[39m \u001b[38;5;28;01mfrom\u001b[39;00m\u001b[38;5;250m \u001b[39m\u001b[34;01mdune_client\u001b[39;00m\u001b[34;01m.\u001b[39;00m\u001b[34;01mclient\u001b[39;00m\u001b[38;5;250m \u001b[39m\u001b[38;5;28;01mimport\u001b[39;00m DuneClient\n\u001b[32m      7\u001b[39m dune = DuneClient(API_KEY)\n\u001b[32m----> \u001b[39m\u001b[32m8\u001b[39m response = \u001b[43mdune\u001b[49m\u001b[43m.\u001b[49m\u001b[43mget_custom_endpoint_result\u001b[49m\u001b[43m(\u001b[49m\n\u001b[32m      9\u001b[39m \u001b[43m  \u001b[49m\u001b[33;43m\"\u001b[39;49m\u001b[33;43mfirstbml\u001b[39;49m\u001b[33;43m\"\u001b[39;49m\u001b[43m,\u001b[49m\n\u001b[32m     10\u001b[39m \u001b[43m  \u001b[49m\u001b[33;43m\"\u001b[39;49m\u001b[33;43mwallet-explorer-drilldown\u001b[39;49m\u001b[33;43m\"\u001b[39;49m\u001b[43m,\u001b[49m\n\u001b[32m     11\u001b[39m \u001b[43m  \u001b[49m\u001b[43mlimit\u001b[49m\u001b[43m \u001b[49m\u001b[43m=\u001b[49m\u001b[43m \u001b[49m\u001b[32;43m100\u001b[39;49m\n\u001b[32m     12\u001b[39m \u001b[43m)\u001b[49m\n",
      "\u001b[36mFile \u001b[39m\u001b[32mc:\\Users\\g\\Documents\\PnL Wallet Explorer\\WalletPnL\\Lib\\site-packages\\dune_client\\api\\custom.py:66\u001b[39m, in \u001b[36mCustomEndpointAPI.get_custom_endpoint_result\u001b[39m\u001b[34m(self, handle, endpoint, limit, offset, columns, sample_count, filters, sort_by)\u001b[39m\n\u001b[32m     64\u001b[39m     \u001b[38;5;28;01mreturn\u001b[39;00m ResultsResponse.from_dict(response_json)\n\u001b[32m     65\u001b[39m \u001b[38;5;28;01mexcept\u001b[39;00m \u001b[38;5;167;01mKeyError\u001b[39;00m \u001b[38;5;28;01mas\u001b[39;00m err:\n\u001b[32m---> \u001b[39m\u001b[32m66\u001b[39m     \u001b[38;5;28;01mraise\u001b[39;00m DuneError(response_json, \u001b[33m\"\u001b[39m\u001b[33mResultsResponse\u001b[39m\u001b[33m\"\u001b[39m, err) \u001b[38;5;28;01mfrom\u001b[39;00m\u001b[38;5;250m \u001b[39m\u001b[34;01merr\u001b[39;00m\n",
      "\u001b[31mDuneError\u001b[39m: Can't build ResultsResponse from {'error': 'invalid API Key'}"
     ]
    }
   ],
   "source": [
    "# Load query output from Dune\n",
    "\n",
    "load_dotenv()\n",
    "API_KEY = os.getenv('DUNE_CLIENT_API')\n",
    "\n",
    "from dune_client.client import DuneClient\n",
    "dune = DuneClient(API_KEY)\n",
    "response = dune.get_custom_endpoint_result(\n",
    "  \"firstbml\",\n",
    "  \"wallet-explorer-drilldown\",\n",
    "  limit = 100\n",
    ")"
   ]
  },
  {
   "cell_type": "code",
   "execution_count": 3,
   "id": "e96303d3",
   "metadata": {},
   "outputs": [
    {
     "name": "stdout",
     "output_type": "stream",
     "text": [
      "Using API Key: None found\n"
     ]
    }
   ],
   "source": [
    "from dune_client.client import DuneClient\n",
    "import os\n",
    "from dotenv import load_dotenv\n",
    "\n",
    "load_dotenv()\n",
    "api_key = os.getenv(\"DUNE_CLIENT_API\")\n",
    "\n",
    "print(\"Using API Key:\", api_key[:6] + \"...\" if api_key else \"None found\")\n",
    "\n",
    "dune = DuneClient(api_key)\n"
   ]
  },
  {
   "cell_type": "code",
   "execution_count": 4,
   "id": "dabbc6ff",
   "metadata": {},
   "outputs": [
    {
     "name": "stdout",
     "output_type": "stream",
     "text": [
      "None\n"
     ]
    }
   ],
   "source": [
    "import os\n",
    "from dotenv import load_dotenv\n",
    "\n",
    "load_dotenv()\n",
    "print(repr(os.getenv(\"DUNE_CLIENT_API\")))\n"
   ]
  }
 ],
 "metadata": {
  "kernelspec": {
   "display_name": "WalletPnL",
   "language": "python",
   "name": "python3"
  },
  "language_info": {
   "codemirror_mode": {
    "name": "ipython",
    "version": 3
   },
   "file_extension": ".py",
   "mimetype": "text/x-python",
   "name": "python",
   "nbconvert_exporter": "python",
   "pygments_lexer": "ipython3",
   "version": "3.13.1"
  }
 },
 "nbformat": 4,
 "nbformat_minor": 5
}
